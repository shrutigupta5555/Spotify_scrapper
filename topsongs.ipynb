{
  "nbformat": 4,
  "nbformat_minor": 0,
  "metadata": {
    "colab": {
      "name": "topsongs.ipynb",
      "provenance": [],
      "collapsed_sections": [],
      "authorship_tag": "ABX9TyMnPBIA1wQM4pAfUlqLRNIp",
      "include_colab_link": true
    },
    "kernelspec": {
      "name": "python3",
      "display_name": "Python 3"
    }
  },
  "cells": [
    {
      "cell_type": "markdown",
      "metadata": {
        "id": "view-in-github",
        "colab_type": "text"
      },
      "source": [
        "<a href=\"https://colab.research.google.com/github/shrutigupta5555/Spotify_scrapper/blob/master/topsongs.ipynb\" target=\"_parent\"><img src=\"https://colab.research.google.com/assets/colab-badge.svg\" alt=\"Open In Colab\"/></a>"
      ]
    },
    {
      "cell_type": "code",
      "metadata": {
        "id": "_QrMCSQtBrU6",
        "colab_type": "code",
        "colab": {}
      },
      "source": [
        "import requests\n",
        "from bs4 import BeautifulSoup"
      ],
      "execution_count": 3,
      "outputs": []
    },
    {
      "cell_type": "code",
      "metadata": {
        "id": "ql28FV_5B3gk",
        "colab_type": "code",
        "colab": {}
      },
      "source": [
        "url = \"https://spotifycharts.com/regional\"\n",
        "\n",
        "res = requests.get(url)\n",
        "soup = BeautifulSoup(res.text)\n"
      ],
      "execution_count": 4,
      "outputs": []
    },
    {
      "cell_type": "code",
      "metadata": {
        "id": "FpzkJkyWCEqP",
        "colab_type": "code",
        "colab": {}
      },
      "source": [
        "def getSongs():\n",
        "  song_list=[]\n",
        "  tracks=soup.find_all(\"td\", attrs ={\"class\": \"chart-table-track\"})\n",
        "  for i in range(200):\n",
        "    j = i+1\n",
        "    t = tracks[i]\n",
        "    text = t.getText()\n",
        "    stripped = text.strip()\n",
        "    li= stripped.split(\"\\n\")\n",
        "    l= str(j)+\" \"+\"  \".join(li)\n",
        "    song_list.append(l)\n",
        "\n",
        "  return song_list\n"
      ],
      "execution_count": 5,
      "outputs": []
    },
    {
      "cell_type": "code",
      "metadata": {
        "id": "2YizC7xQDEW-",
        "colab_type": "code",
        "colab": {}
      },
      "source": [
        "top_10 = (getSongs())\n",
        "top_10 = map(lambda x:x.lower(), top_10)\n",
        "output = list(top_10)\n"
      ],
      "execution_count": 6,
      "outputs": []
    },
    {
      "cell_type": "code",
      "metadata": {
        "id": "djvFjtkcDHpn",
        "colab_type": "code",
        "colab": {
          "base_uri": "https://localhost:8080/",
          "height": 857
        },
        "outputId": "1ab9eb66-ea61-4c85-f8a7-8534661d35b5"
      },
      "source": [
        "output[:50]"
      ],
      "execution_count": 7,
      "outputs": [
        {
          "output_type": "execute_result",
          "data": {
            "text/plain": [
              "['1 savage love (laxed - siren beat)  by jawsh 685',\n",
              " '2 rockstar (feat. roddy ricch)  by dababy',\n",
              " '3 wap (feat. megan thee stallion)  by cardi b',\n",
              " '4 watermelon sugar  by harry styles',\n",
              " '5 blinding lights  by the weeknd',\n",
              " '6 roses - imanbek remix  by saint jhn',\n",
              " '7 smile (with the weeknd)  by juice wrld',\n",
              " '8 breaking me  by topic',\n",
              " '9 come & go (with marshmello)  by juice wrld',\n",
              " '10 un dia (one day) (feat. tainy)  by j balvin',\n",
              " '11 wishing well  by juice wrld',\n",
              " '12 death bed (coffee for your head)  by powfu',\n",
              " '13 dance monkey  by tones and i',\n",
              " '14 my future  by billie eilish',\n",
              " '15 cardigan  by taylor swift',\n",
              " '16 la jeepeta - remix  by nio garcia',\n",
              " '17 mood swings (feat. lil tjay)  by pop smoke',\n",
              " '18 caramelo  by ozuna',\n",
              " '19 rain on me (with ariana grande)  by lady gaga',\n",
              " '20 head & heart (feat. mnek)  by joel corry',\n",
              " '21 ily (i love you baby) (feat. emilee)  by surf mesa',\n",
              " '22 agua (with j balvin) - music from \"sponge on the run\" movie  by tainy',\n",
              " '23 break my heart  by dua lipa',\n",
              " '24 mamacita  by black eyed peas',\n",
              " '25 blueberry faygo  by lil mosey',\n",
              " '26 exile (feat. bon iver)  by taylor swift',\n",
              " '27 tattoo - remix with camilo  by rauw alejandro',\n",
              " '28 whats poppin (feat. dababy, tory lanez & lil wayne) - remix  by jack harlow',\n",
              " '29 someone you loved  by lewis capaldi',\n",
              " '30 la curiosidad  by jay wheeler',\n",
              " '31 for the night (feat. lil baby & dababy)  by pop smoke',\n",
              " '32 relación  by sech',\n",
              " '33 the woo (feat. 50 cent & roddy ricch)  by pop smoke',\n",
              " \"34 don't start now  by dua lipa\",\n",
              " '35 toosie slide  by drake',\n",
              " '36 stuck with u (with justin bieber)  by ariana grande',\n",
              " '37 party girl  by staysolidrocky',\n",
              " '38 before you go  by lewis capaldi',\n",
              " '39 djadja (feat. maluma) - remix  by aya nakamura',\n",
              " '40 go crazy  by chris brown',\n",
              " '41 how you like that  by blackpink',\n",
              " '42 greece (feat. drake)  by dj khaled',\n",
              " '43 ay, dios mío!  by karol g',\n",
              " '44 mamichula - con nicki nicole  by trueno',\n",
              " '45 kings & queens  by ava max',\n",
              " '46 tkn (feat. travis scott)  by rosalía',\n",
              " '47 popstar (feat. drake)  by dj khaled',\n",
              " '48 the box  by roddy ricch',\n",
              " '49 intentions (feat. quavo)  by justin bieber',\n",
              " '50 supalonely  by benee']"
            ]
          },
          "metadata": {
            "tags": []
          },
          "execution_count": 7
        }
      ]
    },
    {
      "cell_type": "code",
      "metadata": {
        "id": "VfOQZ63iEYm6",
        "colab_type": "code",
        "colab": {}
      },
      "source": [
        "\n"
      ],
      "execution_count": 7,
      "outputs": []
    },
    {
      "cell_type": "code",
      "metadata": {
        "id": "Msmnt6t6Ef_7",
        "colab_type": "code",
        "colab": {}
      },
      "source": [
        ""
      ],
      "execution_count": 7,
      "outputs": []
    },
    {
      "cell_type": "code",
      "metadata": {
        "id": "W4VngY8FEi_q",
        "colab_type": "code",
        "colab": {}
      },
      "source": [
        ""
      ],
      "execution_count": 7,
      "outputs": []
    },
    {
      "cell_type": "code",
      "metadata": {
        "id": "JgkoHeFvcala",
        "colab_type": "code",
        "colab": {}
      },
      "source": [
        ""
      ],
      "execution_count": 7,
      "outputs": []
    },
    {
      "cell_type": "code",
      "metadata": {
        "id": "l4zNZXtvSXI5",
        "colab_type": "code",
        "colab": {}
      },
      "source": [
        "def getInput(number,artist):\n",
        "  test_list = output[:number]\n",
        "\n",
        "  subs = artist\n",
        "\n",
        "  res = list(filter(lambda x: subs in x, test_list)) \n",
        "  res_str= str(res)\n",
        "  if(len(res)!=0):\n",
        "    split_res = res_str.split(\",\")\n",
        "\n",
        "  \n",
        "\n",
        "    for st in range(len(split_res)):\n",
        "      song=split_res[st][:-1].strip().split(\" \")\n",
        "      s=\" \".join(song[1:]).strip(\"\\'\").title()\n",
        "      print(f\"WE FOUND A MATCH: {s}\")\n",
        "      pos=song[0].strip(\"['\")\n",
        "      print(f\"Your favourite song is at {pos}!!!\")\n",
        "\n",
        "    with open(\"topn.txt\",\"w\") as file:\n",
        "      m=0\n",
        "      for m in range(number):\n",
        "      \n",
        "        k=output[m]\n",
        "        file.write(str(k).title())\n",
        "    \n",
        "        file.write(\"\\n\")\n",
        "  else:\n",
        "    print(\"Sorry! Couldn't make it on top of charts :(\")\n",
        "\n",
        " "
      ],
      "execution_count": 8,
      "outputs": []
    },
    {
      "cell_type": "code",
      "metadata": {
        "id": "EaXO5X6TW1YI",
        "colab_type": "code",
        "colab": {
          "base_uri": "https://localhost:8080/",
          "height": 84
        },
        "outputId": "2e4acbdd-9fc5-4f0a-a5a4-c8b15eea5e10"
      },
      "source": [
        "number = int(input(\"Enter the boundaries in which you want to search(max:200): \"))\n",
        "artist = input(\"Enter the name of you favourite artist or song:\")\n",
        "artist=artist.lower()\n",
        "\n",
        "getInput(number,artist)\n"
      ],
      "execution_count": 9,
      "outputs": [
        {
          "output_type": "stream",
          "text": [
            "Enter the boundaries in which you want to search(max:200): 10\n",
            "Enter the name of you favourite artist or song:Harry styles\n",
            "WE FOUND A MATCH: Watermelon Sugar  By Harry Styles\n",
            "Your favourite song is at 4!!!\n"
          ],
          "name": "stdout"
        }
      ]
    },
    {
      "cell_type": "code",
      "metadata": {
        "id": "PZq-3L4-YJ8g",
        "colab_type": "code",
        "colab": {}
      },
      "source": [
        ""
      ],
      "execution_count": null,
      "outputs": []
    },
    {
      "cell_type": "code",
      "metadata": {
        "id": "5PPw0Zs5zN9W",
        "colab_type": "code",
        "colab": {}
      },
      "source": [
        ""
      ],
      "execution_count": null,
      "outputs": []
    }
  ]
}